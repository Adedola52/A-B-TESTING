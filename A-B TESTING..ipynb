{
 "cells": [
  {
   "cell_type": "markdown",
   "id": "ccd4a959",
   "metadata": {},
   "source": [
    "A-B TESTING\n",
    "\n",
    "BY: TAIBAT ABOWABA"
   ]
  },
  {
   "cell_type": "markdown",
   "id": "226413ed",
   "metadata": {},
   "source": [
    "**Case Study: Increasing Average Transactions in a Fintech company**\n",
    "    \n",
    "**Background:** A fintech company aims to increase the average transaction value of its users by 10% per month. To achieve this, the marketing team proposed sending a tutorial video to customers, explaining how to make easy and stress-free transfers. They believe that this initiative will result in an increase in the average transaction value per user each month.\n",
    "\n",
    "However, the head of sales argued that the tutorial video would not lead to any significant change in transaction behavior. To validate both claims, it was decided to conduct an A/B test.\n",
    "\n",
    "**Objective:** To validate both claims, it was decided to conduct an A/B test. This test will compare the average transaction values of two groups:\n",
    "\n",
    "**Control Group:** Customers who do not receive the tutorial video.\n",
    "    \n",
    "**Test Group:** Customers who receive the tutorial video.\n",
    "    \n",
    "**Expected Outcome:** The A/B test aims to provide statistical evidence regarding the effectiveness of the tutorial in increasing transaction values, helping the company make informed decisions based on data."
   ]
  },
  {
   "cell_type": "markdown",
   "id": "d72bad4e",
   "metadata": {},
   "source": [
    "<hr style=\"height: 2px; background-color: black; border: none;\" />"
   ]
  },
  {
   "cell_type": "markdown",
   "id": "464a1464",
   "metadata": {},
   "source": [
    "**Hypotheses for the A/B Test**\n",
    "\n",
    "**Null Hypothesis (H0):** The tutorial video will not lead to any significant change in transaction behavior among customers.\n",
    "\n",
    "**Alternative Hypothesis (H1):** The tutorial video will help customers navigate the process of making seamless transfers, ultimately leading to an increase in average transaction values."
   ]
  },
  {
   "cell_type": "code",
   "execution_count": 1,
   "id": "6d96b467",
   "metadata": {},
   "outputs": [],
   "source": [
    "# importing libraries\n",
    "import pandas as pd\n",
    "import matplotlib.pyplot as plt\n",
    "import seaborn as sns\n",
    "import numpy as np\n",
    "import scipy.stats as stats\n",
    "import statsmodels.stats.api as sms\n",
    "from math import ceil\n",
    "%matplotlib inline"
   ]
  },
  {
   "cell_type": "code",
   "execution_count": 2,
   "id": "c53f75aa",
   "metadata": {},
   "outputs": [
    {
     "name": "stdout",
     "output_type": "stream",
     "text": [
      "The sample size required for each group is: 1570\n"
     ]
    }
   ],
   "source": [
    "# Performing a power analysis to determine the sample size needed for statistical tests.\n",
    "size= sms.NormalIndPower().solve_power(0.10, power=0.80, alpha=0.05, ratio=1)\n",
    "size=ceil(size)\n",
    "print(f'The sample size required for each group is: {size}')"
   ]
  },
  {
   "cell_type": "code",
   "execution_count": 3,
   "id": "89415579",
   "metadata": {},
   "outputs": [],
   "source": [
    "# generating a synthetic dataset for testing and analysis\n",
    "np.random.seed(0)\n",
    "rows=10000\n",
    "user_id=np.arange(1, rows+1,1)\n",
    "group= np.random.choice(['test','control'], size=rows)\n",
    "transfers_completed_test=np.random.normal(7,2, size=(rows//2)).clip(0).round().astype('int')\n",
    "transfers_completed_control=np.random.normal(5,2, size=(rows//2)).clip(0).round().astype('int')\n",
    "transfers_completed=np.concatenate([transfers_completed_control, transfers_completed_test])\n",
    "np.random.shuffle(transfers_completed)\n",
    "signup_date = pd.date_range(start='2023-01-01', end='2023-12-01', periods=rows).date\n",
    "age= np.random.randint(18,65, rows)\n",
    "gender= np.random.choice(['female','male'], size=rows)\n",
    "signup_method=np.random.choice(['email','social media'], size=rows)"
   ]
  },
  {
   "cell_type": "code",
   "execution_count": 4,
   "id": "2bb32639",
   "metadata": {},
   "outputs": [],
   "source": [
    "ab_test= pd.DataFrame({'user_id':user_id, 'group':group,'transfers_completed':transfers_completed,\n",
    "                      'signup_date':signup_date,'age':age,'gender':gender,'signup_method':signup_method})"
   ]
  },
  {
   "cell_type": "code",
   "execution_count": 5,
   "id": "fcf6d08d",
   "metadata": {},
   "outputs": [
    {
     "data": {
      "text/html": [
       "<div>\n",
       "<style scoped>\n",
       "    .dataframe tbody tr th:only-of-type {\n",
       "        vertical-align: middle;\n",
       "    }\n",
       "\n",
       "    .dataframe tbody tr th {\n",
       "        vertical-align: top;\n",
       "    }\n",
       "\n",
       "    .dataframe thead th {\n",
       "        text-align: right;\n",
       "    }\n",
       "</style>\n",
       "<table border=\"1\" class=\"dataframe\">\n",
       "  <thead>\n",
       "    <tr style=\"text-align: right;\">\n",
       "      <th></th>\n",
       "      <th>user_id</th>\n",
       "      <th>group</th>\n",
       "      <th>transfers_completed</th>\n",
       "      <th>signup_date</th>\n",
       "      <th>age</th>\n",
       "      <th>gender</th>\n",
       "      <th>signup_method</th>\n",
       "    </tr>\n",
       "  </thead>\n",
       "  <tbody>\n",
       "    <tr>\n",
       "      <th>0</th>\n",
       "      <td>1</td>\n",
       "      <td>test</td>\n",
       "      <td>9</td>\n",
       "      <td>2023-01-01</td>\n",
       "      <td>31</td>\n",
       "      <td>female</td>\n",
       "      <td>email</td>\n",
       "    </tr>\n",
       "    <tr>\n",
       "      <th>1</th>\n",
       "      <td>2</td>\n",
       "      <td>control</td>\n",
       "      <td>6</td>\n",
       "      <td>2023-01-01</td>\n",
       "      <td>61</td>\n",
       "      <td>male</td>\n",
       "      <td>social media</td>\n",
       "    </tr>\n",
       "    <tr>\n",
       "      <th>2</th>\n",
       "      <td>3</td>\n",
       "      <td>control</td>\n",
       "      <td>7</td>\n",
       "      <td>2023-01-01</td>\n",
       "      <td>55</td>\n",
       "      <td>female</td>\n",
       "      <td>social media</td>\n",
       "    </tr>\n",
       "    <tr>\n",
       "      <th>3</th>\n",
       "      <td>4</td>\n",
       "      <td>test</td>\n",
       "      <td>13</td>\n",
       "      <td>2023-01-01</td>\n",
       "      <td>32</td>\n",
       "      <td>male</td>\n",
       "      <td>email</td>\n",
       "    </tr>\n",
       "    <tr>\n",
       "      <th>4</th>\n",
       "      <td>5</td>\n",
       "      <td>control</td>\n",
       "      <td>8</td>\n",
       "      <td>2023-01-01</td>\n",
       "      <td>53</td>\n",
       "      <td>female</td>\n",
       "      <td>social media</td>\n",
       "    </tr>\n",
       "    <tr>\n",
       "      <th>...</th>\n",
       "      <td>...</td>\n",
       "      <td>...</td>\n",
       "      <td>...</td>\n",
       "      <td>...</td>\n",
       "      <td>...</td>\n",
       "      <td>...</td>\n",
       "      <td>...</td>\n",
       "    </tr>\n",
       "    <tr>\n",
       "      <th>9995</th>\n",
       "      <td>9996</td>\n",
       "      <td>test</td>\n",
       "      <td>4</td>\n",
       "      <td>2023-11-30</td>\n",
       "      <td>57</td>\n",
       "      <td>female</td>\n",
       "      <td>email</td>\n",
       "    </tr>\n",
       "    <tr>\n",
       "      <th>9996</th>\n",
       "      <td>9997</td>\n",
       "      <td>control</td>\n",
       "      <td>3</td>\n",
       "      <td>2023-11-30</td>\n",
       "      <td>34</td>\n",
       "      <td>male</td>\n",
       "      <td>email</td>\n",
       "    </tr>\n",
       "    <tr>\n",
       "      <th>9997</th>\n",
       "      <td>9998</td>\n",
       "      <td>test</td>\n",
       "      <td>9</td>\n",
       "      <td>2023-11-30</td>\n",
       "      <td>62</td>\n",
       "      <td>female</td>\n",
       "      <td>email</td>\n",
       "    </tr>\n",
       "    <tr>\n",
       "      <th>9998</th>\n",
       "      <td>9999</td>\n",
       "      <td>control</td>\n",
       "      <td>7</td>\n",
       "      <td>2023-11-30</td>\n",
       "      <td>29</td>\n",
       "      <td>male</td>\n",
       "      <td>email</td>\n",
       "    </tr>\n",
       "    <tr>\n",
       "      <th>9999</th>\n",
       "      <td>10000</td>\n",
       "      <td>test</td>\n",
       "      <td>6</td>\n",
       "      <td>2023-12-01</td>\n",
       "      <td>34</td>\n",
       "      <td>male</td>\n",
       "      <td>social media</td>\n",
       "    </tr>\n",
       "  </tbody>\n",
       "</table>\n",
       "<p>10000 rows × 7 columns</p>\n",
       "</div>"
      ],
      "text/plain": [
       "      user_id    group  transfers_completed signup_date  age  gender  \\\n",
       "0           1     test                    9  2023-01-01   31  female   \n",
       "1           2  control                    6  2023-01-01   61    male   \n",
       "2           3  control                    7  2023-01-01   55  female   \n",
       "3           4     test                   13  2023-01-01   32    male   \n",
       "4           5  control                    8  2023-01-01   53  female   \n",
       "...       ...      ...                  ...         ...  ...     ...   \n",
       "9995     9996     test                    4  2023-11-30   57  female   \n",
       "9996     9997  control                    3  2023-11-30   34    male   \n",
       "9997     9998     test                    9  2023-11-30   62  female   \n",
       "9998     9999  control                    7  2023-11-30   29    male   \n",
       "9999    10000     test                    6  2023-12-01   34    male   \n",
       "\n",
       "     signup_method  \n",
       "0            email  \n",
       "1     social media  \n",
       "2     social media  \n",
       "3            email  \n",
       "4     social media  \n",
       "...            ...  \n",
       "9995         email  \n",
       "9996         email  \n",
       "9997         email  \n",
       "9998         email  \n",
       "9999  social media  \n",
       "\n",
       "[10000 rows x 7 columns]"
      ]
     },
     "execution_count": 5,
     "metadata": {},
     "output_type": "execute_result"
    }
   ],
   "source": [
    "ab_test"
   ]
  },
  {
   "cell_type": "markdown",
   "id": "7dccb5d5",
   "metadata": {},
   "source": [
    "There are **10,000** rows in the DataFrame, each representing a cummulative of a user total engagement, as well as **6 columns**\n",
    "\n",
    "- **user_id** - The **user ID** is the unique identifier\n",
    "- **group** - The group the user belong to\n",
    "- **transfers_completed** - Number of completed transfers through out the session\n",
    "- **signup_date** - The date when the user signed up\n",
    "- **age** - Age of users\n",
    "- **gender** - Gender of users\n",
    "- **signup_method** - How the user signed up"
   ]
  },
  {
   "cell_type": "code",
   "execution_count": 6,
   "id": "00207571",
   "metadata": {},
   "outputs": [
    {
     "data": {
      "text/plain": [
       "user_id                 int32\n",
       "group                  object\n",
       "transfers_completed     int32\n",
       "signup_date            object\n",
       "age                     int32\n",
       "gender                 object\n",
       "signup_method          object\n",
       "dtype: object"
      ]
     },
     "execution_count": 6,
     "metadata": {},
     "output_type": "execute_result"
    }
   ],
   "source": [
    "# checking for datatypes\n",
    "ab_test.dtypes"
   ]
  },
  {
   "cell_type": "code",
   "execution_count": 7,
   "id": "99f9449b",
   "metadata": {},
   "outputs": [
    {
     "data": {
      "text/plain": [
       "user_id                0\n",
       "group                  0\n",
       "transfers_completed    0\n",
       "signup_date            0\n",
       "age                    0\n",
       "gender                 0\n",
       "signup_method          0\n",
       "dtype: int64"
      ]
     },
     "execution_count": 7,
     "metadata": {},
     "output_type": "execute_result"
    }
   ],
   "source": [
    "# checking for null values\n",
    "ab_test.isnull().sum()"
   ]
  },
  {
   "cell_type": "code",
   "execution_count": 8,
   "id": "019e4d6e",
   "metadata": {},
   "outputs": [
    {
     "data": {
      "text/plain": [
       "group\n",
       "control    5085\n",
       "test       4915\n",
       "Name: count, dtype: int64"
      ]
     },
     "execution_count": 8,
     "metadata": {},
     "output_type": "execute_result"
    }
   ],
   "source": [
    "# examining the distribution of values in each group\n",
    "ab_test['group'].value_counts()"
   ]
  },
  {
   "cell_type": "code",
   "execution_count": 9,
   "id": "69a9b677",
   "metadata": {},
   "outputs": [
    {
     "name": "stdout",
     "output_type": "stream",
     "text": [
      "There are 0 of people that appeared more than once\n"
     ]
    }
   ],
   "source": [
    "# checking if users appeared more than once\n",
    "sessions= ab_test['user_id'].value_counts()\n",
    "multi_session= sessions[sessions>1].count()\n",
    "print(f'There are {multi_session} of people that appeared more than once')"
   ]
  },
  {
   "cell_type": "code",
   "execution_count": 10,
   "id": "029335d3",
   "metadata": {},
   "outputs": [
    {
     "data": {
      "text/html": [
       "<div>\n",
       "<style scoped>\n",
       "    .dataframe tbody tr th:only-of-type {\n",
       "        vertical-align: middle;\n",
       "    }\n",
       "\n",
       "    .dataframe tbody tr th {\n",
       "        vertical-align: top;\n",
       "    }\n",
       "\n",
       "    .dataframe thead th {\n",
       "        text-align: right;\n",
       "    }\n",
       "</style>\n",
       "<table border=\"1\" class=\"dataframe\">\n",
       "  <thead>\n",
       "    <tr style=\"text-align: right;\">\n",
       "      <th></th>\n",
       "      <th>user_id</th>\n",
       "      <th>group</th>\n",
       "      <th>transfers_completed</th>\n",
       "      <th>signup_date</th>\n",
       "      <th>age</th>\n",
       "      <th>gender</th>\n",
       "      <th>signup_method</th>\n",
       "    </tr>\n",
       "  </thead>\n",
       "  <tbody>\n",
       "    <tr>\n",
       "      <th>0</th>\n",
       "      <td>2784</td>\n",
       "      <td>test</td>\n",
       "      <td>4</td>\n",
       "      <td>2023-04-03</td>\n",
       "      <td>33</td>\n",
       "      <td>male</td>\n",
       "      <td>email</td>\n",
       "    </tr>\n",
       "    <tr>\n",
       "      <th>1</th>\n",
       "      <td>9146</td>\n",
       "      <td>test</td>\n",
       "      <td>5</td>\n",
       "      <td>2023-11-02</td>\n",
       "      <td>42</td>\n",
       "      <td>female</td>\n",
       "      <td>social media</td>\n",
       "    </tr>\n",
       "    <tr>\n",
       "      <th>2</th>\n",
       "      <td>7813</td>\n",
       "      <td>test</td>\n",
       "      <td>8</td>\n",
       "      <td>2023-09-18</td>\n",
       "      <td>27</td>\n",
       "      <td>male</td>\n",
       "      <td>social media</td>\n",
       "    </tr>\n",
       "    <tr>\n",
       "      <th>3</th>\n",
       "      <td>455</td>\n",
       "      <td>test</td>\n",
       "      <td>4</td>\n",
       "      <td>2023-01-16</td>\n",
       "      <td>22</td>\n",
       "      <td>female</td>\n",
       "      <td>email</td>\n",
       "    </tr>\n",
       "    <tr>\n",
       "      <th>4</th>\n",
       "      <td>2847</td>\n",
       "      <td>test</td>\n",
       "      <td>5</td>\n",
       "      <td>2023-04-06</td>\n",
       "      <td>50</td>\n",
       "      <td>male</td>\n",
       "      <td>social media</td>\n",
       "    </tr>\n",
       "    <tr>\n",
       "      <th>...</th>\n",
       "      <td>...</td>\n",
       "      <td>...</td>\n",
       "      <td>...</td>\n",
       "      <td>...</td>\n",
       "      <td>...</td>\n",
       "      <td>...</td>\n",
       "      <td>...</td>\n",
       "    </tr>\n",
       "    <tr>\n",
       "      <th>3135</th>\n",
       "      <td>9437</td>\n",
       "      <td>control</td>\n",
       "      <td>7</td>\n",
       "      <td>2023-11-12</td>\n",
       "      <td>29</td>\n",
       "      <td>female</td>\n",
       "      <td>email</td>\n",
       "    </tr>\n",
       "    <tr>\n",
       "      <th>3136</th>\n",
       "      <td>9728</td>\n",
       "      <td>control</td>\n",
       "      <td>3</td>\n",
       "      <td>2023-11-21</td>\n",
       "      <td>43</td>\n",
       "      <td>female</td>\n",
       "      <td>email</td>\n",
       "    </tr>\n",
       "    <tr>\n",
       "      <th>3137</th>\n",
       "      <td>9760</td>\n",
       "      <td>control</td>\n",
       "      <td>6</td>\n",
       "      <td>2023-11-22</td>\n",
       "      <td>49</td>\n",
       "      <td>male</td>\n",
       "      <td>social media</td>\n",
       "    </tr>\n",
       "    <tr>\n",
       "      <th>3138</th>\n",
       "      <td>6490</td>\n",
       "      <td>control</td>\n",
       "      <td>6</td>\n",
       "      <td>2023-08-05</td>\n",
       "      <td>62</td>\n",
       "      <td>male</td>\n",
       "      <td>email</td>\n",
       "    </tr>\n",
       "    <tr>\n",
       "      <th>3139</th>\n",
       "      <td>1498</td>\n",
       "      <td>control</td>\n",
       "      <td>9</td>\n",
       "      <td>2023-02-20</td>\n",
       "      <td>55</td>\n",
       "      <td>male</td>\n",
       "      <td>social media</td>\n",
       "    </tr>\n",
       "  </tbody>\n",
       "</table>\n",
       "<p>3140 rows × 7 columns</p>\n",
       "</div>"
      ],
      "text/plain": [
       "      user_id    group  transfers_completed signup_date  age  gender  \\\n",
       "0        2784     test                    4  2023-04-03   33    male   \n",
       "1        9146     test                    5  2023-11-02   42  female   \n",
       "2        7813     test                    8  2023-09-18   27    male   \n",
       "3         455     test                    4  2023-01-16   22  female   \n",
       "4        2847     test                    5  2023-04-06   50    male   \n",
       "...       ...      ...                  ...         ...  ...     ...   \n",
       "3135     9437  control                    7  2023-11-12   29  female   \n",
       "3136     9728  control                    3  2023-11-21   43  female   \n",
       "3137     9760  control                    6  2023-11-22   49    male   \n",
       "3138     6490  control                    6  2023-08-05   62    male   \n",
       "3139     1498  control                    9  2023-02-20   55    male   \n",
       "\n",
       "     signup_method  \n",
       "0            email  \n",
       "1     social media  \n",
       "2     social media  \n",
       "3            email  \n",
       "4     social media  \n",
       "...            ...  \n",
       "3135         email  \n",
       "3136         email  \n",
       "3137  social media  \n",
       "3138         email  \n",
       "3139  social media  \n",
       "\n",
       "[3140 rows x 7 columns]"
      ]
     },
     "execution_count": 10,
     "metadata": {},
     "output_type": "execute_result"
    }
   ],
   "source": [
    "# fetching random 1570 samples from the result of our campaign (dataframe) for each groups required for our test\n",
    "size=1570\n",
    "test_group=ab_test[ab_test['group']=='test'].sample(size, random_state=22)\n",
    "control_group=ab_test[ab_test['group']=='control'].sample(size, random_state=22)\n",
    "ab_tests=pd.concat([test_group,control_group]).reset_index(drop=True)\n",
    "ab_tests"
   ]
  },
  {
   "cell_type": "code",
   "execution_count": 11,
   "id": "0633e1cd",
   "metadata": {},
   "outputs": [
    {
     "data": {
      "text/plain": [
       "group\n",
       "test       1570\n",
       "control    1570\n",
       "Name: count, dtype: int64"
      ]
     },
     "execution_count": 11,
     "metadata": {},
     "output_type": "execute_result"
    }
   ],
   "source": [
    "# confirming we have the required sample size for each group\n",
    "ab_tests['group'].value_counts()"
   ]
  },
  {
   "cell_type": "code",
   "execution_count": 12,
   "id": "5e2e199d",
   "metadata": {},
   "outputs": [
    {
     "data": {
      "text/html": [
       "<style type=\"text/css\">\n",
       "</style>\n",
       "<table id=\"T_7bcc5\">\n",
       "  <thead>\n",
       "    <tr>\n",
       "      <th class=\"blank level0\" >&nbsp;</th>\n",
       "      <th id=\"T_7bcc5_level0_col0\" class=\"col_heading level0 col0\" >mean</th>\n",
       "      <th id=\"T_7bcc5_level0_col1\" class=\"col_heading level0 col1\" >std_dev</th>\n",
       "      <th id=\"T_7bcc5_level0_col2\" class=\"col_heading level0 col2\" >std_e</th>\n",
       "    </tr>\n",
       "    <tr>\n",
       "      <th class=\"index_name level0\" >group</th>\n",
       "      <th class=\"blank col0\" >&nbsp;</th>\n",
       "      <th class=\"blank col1\" >&nbsp;</th>\n",
       "      <th class=\"blank col2\" >&nbsp;</th>\n",
       "    </tr>\n",
       "  </thead>\n",
       "  <tbody>\n",
       "    <tr>\n",
       "      <th id=\"T_7bcc5_level0_row0\" class=\"row_heading level0 row0\" >control</th>\n",
       "      <td id=\"T_7bcc5_row0_col0\" class=\"data row0 col0\" >6.031</td>\n",
       "      <td id=\"T_7bcc5_row0_col1\" class=\"data row0 col1\" >2.229</td>\n",
       "      <td id=\"T_7bcc5_row0_col2\" class=\"data row0 col2\" >0.056</td>\n",
       "    </tr>\n",
       "    <tr>\n",
       "      <th id=\"T_7bcc5_level0_row1\" class=\"row_heading level0 row1\" >test</th>\n",
       "      <td id=\"T_7bcc5_row1_col0\" class=\"data row1 col0\" >5.962</td>\n",
       "      <td id=\"T_7bcc5_row1_col1\" class=\"data row1 col1\" >2.220</td>\n",
       "      <td id=\"T_7bcc5_row1_col2\" class=\"data row1 col2\" >0.056</td>\n",
       "    </tr>\n",
       "  </tbody>\n",
       "</table>\n"
      ],
      "text/plain": [
       "<pandas.io.formats.style.Styler at 0x16e28735710>"
      ]
     },
     "execution_count": 12,
     "metadata": {},
     "output_type": "execute_result"
    }
   ],
   "source": [
    "# calculating the mean, standard deviation and standard error for each group\n",
    "test_con= ab_tests.groupby('group')['transfers_completed']\n",
    "std_v= lambda x: np.std(x, ddof=0)\n",
    "std_e= lambda x: stats.sem(x, ddof=0)\n",
    "conversion_rates = test_con.agg([np.mean, std_v, std_e])\n",
    "conversion_rates.columns=['mean', 'std_dev', 'std_e' ]\n",
    "conversion_rates.style.format('{:.3f}')"
   ]
  },
  {
   "cell_type": "markdown",
   "id": "36789575",
   "metadata": {},
   "source": [
    "- The test results indicate that the control group performed better than the test group in terms of average transactions completed. We now need to statistically assess the significance of this difference"
   ]
  },
  {
   "cell_type": "code",
   "execution_count": 13,
   "id": "28913428",
   "metadata": {},
   "outputs": [
    {
     "data": {
      "text/plain": [
       "Text(0, 0.5, 'Average transaction completed')"
      ]
     },
     "execution_count": 13,
     "metadata": {},
     "output_type": "execute_result"
    },
    {
     "data": {
      "image/png": "[encoded data removed]",
      "text/plain": [
       "<Figure size 640x480 with 1 Axes>"
      ]
     },
     "metadata": {},
     "output_type": "display_data"
    }
   ],
   "source": [
    "# representing the average transactions completed for each group with a bar chart to visualize their variations\n",
    "ab_testt=ab_tests.groupby('group')['transfers_completed'].mean().reset_index()\n",
    "colors=['orange','green']\n",
    "plt.bar(ab_testt['group'], ab_testt['transfers_completed'], color=colors)\n",
    "plt.title('Average transaction completed by group')\n",
    "plt.xlabel('Group')\n",
    "plt.ylabel('Average transaction completed')"
   ]
  },
  {
   "cell_type": "code",
   "execution_count": 14,
   "id": "12775116",
   "metadata": {},
   "outputs": [],
   "source": [
    "# splitting dataframe to perform a two-tailed, two-sample t-test\n",
    "test_result=ab_tests[ab_tests['group']=='test']['transfers_completed'].reset_index()\n",
    "control_result=ab_tests[ab_tests['group']=='control']['transfers_completed'].reset_index()"
   ]
  },
  {
   "cell_type": "code",
   "execution_count": 15,
   "id": "e1435664",
   "metadata": {},
   "outputs": [
    {
     "name": "stdout",
     "output_type": "stream",
     "text": [
      "t_stat : -0.874\n",
      "p_value : 0.382\n",
      "critical value: 1.96\n"
     ]
    }
   ],
   "source": [
    "# calculating the t-statistic, p-value, and showing the critical value for a 95% confidence level\n",
    "from scipy import stats\n",
    "\n",
    "t_stat, p_value = stats.ttest_ind(test_result['transfers_completed'], control_result['transfers_completed'])\n",
    "critical_value = stats.norm.ppf(1 - 0.05/2)\n",
    "\n",
    "print(f't_stat : {t_stat:.3f}')\n",
    "print(f'p_value : {p_value:.3f}')\n",
    "print(f'critical value: {critical_value:.2f}')"
   ]
  },
  {
   "cell_type": "markdown",
   "id": "718a01e8",
   "metadata": {},
   "source": [
    "**What the results interprets:**\n",
    "\n",
    "**P-value:** Since the p-value (0.382) is greater than α (0.05), we fail to reject the null hypothesis.\n",
    "\n",
    "**T-statistic:** A t-statistic of -0.874 indicates that the test group's performance is not significantly different from the control group's performance, and in fact, it suggests that the test group performed worse, but this difference is not significant.\n",
    "    \n",
    "**Critical Value:** The critical value of ±1.96 sets the boundary for statistical significance. For a significant result, \n",
    "the t-statistic would need to fall outside this range (i.e., less than -1.96 or greater than +1.96). Since -0.874 is well within this range, this further supports failing to reject the null hypothesis.\n",
    "\n",
    "**Conclusion:** \n",
    "We do not accept the alternative hypothesis (H1) because the evidence does not support that the test group improved significantly.\n",
    "The result indicates that the control group performed better than the test group, but this difference is not statistically significant. Therefore, we can conclude that the performance difference could likely be due to chance, rather than a true effect of the tutorial."
   ]
  },
  {
   "cell_type": "markdown",
   "id": "076aff67",
   "metadata": {},
   "source": [
    "<hr style=\"height: 2px; background-color: black; border: none;\" />"
   ]
  },
  {
   "cell_type": "markdown",
   "id": "3809b768",
   "metadata": {},
   "source": [
    "**Recommendation:**\n",
    "Since the test did not show significant improvement, we might want to explore:\n",
    "    \n",
    "- **Reasons for the lack of improvement:** We should figure whether the tutorial was effective, engaging, or necessary.\n",
    "- **Adjustments:** Perhaps improve the tutorial content or delivery and conduct further testing to gather more data.\n",
    "- **User Feedback:** Conduct interviews or focus groups to understand user experiences and gather insights for improvement.\n",
    "- **A/B Testing Formats:** Experiment with different tutorial formats (e.g., video vs. written) to find the most effective one.\n",
    "- **Segmented Targeting:** Tailor tutorials based on user demographics or experience levels for personalized learning.\n",
    "- **Follow-Up Support:** Implement reminders and additional support post-tutorial to reinforce learning.\n",
    "- **Influencer Collaboration:** Partner with trusted figures for webinars or live sessions to increase credibility.\n",
    "- **Social Proof:** Showcase testimonials or success stories from users who benefited from the tutorial.\n",
    "- **Iterative Testing:** Continuously gather data and refine the tutorial based on user feedback."
   ]
  },
  {
   "cell_type": "code",
   "execution_count": null,
   "id": "b1ceae1b",
   "metadata": {},
   "outputs": [],
   "source": []
  },
  {
   "cell_type": "code",
   "execution_count": null,
   "id": "85077efe",
   "metadata": {},
   "outputs": [],
   "source": []
  }
 ],
 "metadata": {
  "kernelspec": {
   "display_name": "Python 3 (ipykernel)",
   "language": "python",
   "name": "python3"
  },
  "language_info": {
   "codemirror_mode": {
    "name": "ipython",
    "version": 3
   },
   "file_extension": ".py",
   "mimetype": "text/x-python",
   "name": "python",
   "nbconvert_exporter": "python",
   "pygments_lexer": "ipython3",
   "version": "3.11.5"
  }
 },
 "nbformat": 4,
 "nbformat_minor": 5
}
